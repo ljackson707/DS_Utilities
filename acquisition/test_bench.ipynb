{
 "cells": [
  {
   "cell_type": "code",
   "execution_count": 1,
   "metadata": {},
   "outputs": [],
   "source": [
    "import pandas as pd\n",
    "import os"
   ]
  },
  {
   "cell_type": "code",
   "execution_count": 2,
   "metadata": {},
   "outputs": [],
   "source": [
    "def generate_db_url(user, password, host, db_name, protocol = \"mysql+pymysql\"):\n",
    " \n",
    "    return f\"{protocol}://{user}:{password}@{host}/{db_name}\""
   ]
  },
  {
   "cell_type": "code",
   "execution_count": 3,
   "metadata": {},
   "outputs": [],
   "source": [
    "def generate_csv_url(sheet_url):\n",
    "  \n",
    "    if type(sheet_url) == str:\n",
    "\n",
    "        if(sheet_url.find(\"edit#gid\") > -1):\n",
    "            return sheet_url.replace(\"edit#gid\", \"export?format=csv&gid\")\n",
    "\n",
    "        else:\n",
    "            raise ValueError(\"sheet_url must contain 'edit#gid' phrase\")\n",
    "    else:\n",
    "        raise TypeError(\"sheet_url must be a string\")"
   ]
  },
  {
   "cell_type": "code",
   "execution_count": 4,
   "metadata": {},
   "outputs": [],
   "source": [
    "def generate_df(file_name, query=\"\", db_url=\"\", cached=True):\n",
    "  \n",
    "    file_present = os.path.isfile(file_name)\n",
    "\n",
    "    if cached and file_present:\n",
    "        df = pd.read_csv(file_name)\n",
    "    else:\n",
    "        df = pd.read_sql(query, db_url)\n",
    "        df.to_csv(file_name, index=False)\n",
    "\n",
    "    return df"
   ]
  }
 ],
 "metadata": {
  "kernelspec": {
   "display_name": "Python 3",
   "language": "python",
   "name": "python3"
  },
  "language_info": {
   "codemirror_mode": {
    "name": "ipython",
    "version": 3
   },
   "file_extension": ".py",
   "mimetype": "text/x-python",
   "name": "python",
   "nbconvert_exporter": "python",
   "pygments_lexer": "ipython3",
   "version": "3.8.5"
  }
 },
 "nbformat": 4,
 "nbformat_minor": 4
}

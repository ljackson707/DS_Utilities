{
 "cells": [
  {
   "cell_type": "code",
   "execution_count": 1,
   "metadata": {},
   "outputs": [],
   "source": [
    "import pandas as pd\n",
    "import numpy as np\n",
    "import unicodedata\n",
    "import re\n",
    "import json\n",
    "import nltk\n",
    "\n",
    "from nltk.tokenize.toktok import ToktokTokenizer\n",
    "from nltk.corpus import stopwords\n",
    "from sklearn.model_selection import train_test_split\n",
    "from sklearn.feature_selection import SelectKBest, RFE, f_regression\n",
    "from sklearn.preprocessing import MinMaxScaler"
   ]
  },
  {
   "cell_type": "code",
   "execution_count": null,
   "metadata": {},
   "outputs": [],
   "source": [
    "def split_dataframe(df, stratify_by=None, rand=1414, test_size=.2, validate_size=.3):\n",
    "    \n",
    "    if stratify_by == None:\n",
    "        train, test = train_test_split(df, test_size=test_size, random_state=rand)\n",
    "        train, validate = train_test_split(train, test_size=validate_size, random_state=rand)\n",
    "    else:\n",
    "        train, test = train_test_split(df, test_size=test_size, random_state=rand, stratify=df[stratify_by])\n",
    "        train, validate = train_test_split(train, test_size=validate_size, random_state=rand, stratify=train[stratify_by])\n",
    "\n",
    "    return train, validate, test"
   ]
  },
  {
   "cell_type": "code",
   "execution_count": null,
   "metadata": {},
   "outputs": [],
   "source": [
    "def split_dataframe_continuous_target(dframe, target, bins=5, rand=1414, test_size=.2, validate_size=.3):\n",
    "    \n",
    "    df = dframe.copy()\n",
    "    binned_y = pd.cut(df[target], bins=bins, labels=list(range(bins)))\n",
    "    df[\"bins\"] = binned_y\n",
    "\n",
    "    train_validate, test = train_test_split(df, stratify=df[\"bins\"], test_size=test_size, random_state=rand)\n",
    "    train, validate = train_test_split(train_validate, stratify=train_validate[\"bins\"], test_size=validate_size, random_state=rand)\n",
    "\n",
    "    train = train.drop(columns=[\"bins\"])\n",
    "    validate = validate.drop(columns=[\"bins\"])\n",
    "    test = test.drop(columns=[\"bins\"])\n",
    "    \n",
    "    return train, validate, test"
   ]
  }
 ],
 "metadata": {
  "kernelspec": {
   "display_name": "Python 3",
   "language": "python",
   "name": "python3"
  },
  "language_info": {
   "codemirror_mode": {
    "name": "ipython",
    "version": 3
   },
   "file_extension": ".py",
   "mimetype": "text/x-python",
   "name": "python",
   "nbconvert_exporter": "python",
   "pygments_lexer": "ipython3",
   "version": "3.8.5"
  }
 },
 "nbformat": 4,
 "nbformat_minor": 4
}
